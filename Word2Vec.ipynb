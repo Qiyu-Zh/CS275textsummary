{
 "cells": [
  {
   "cell_type": "markdown",
   "metadata": {},
   "source": [
    "## Loading data into dataframe for ease of access"
   ]
  },
  {
   "cell_type": "code",
   "metadata": {
    "ExecuteTime": {
     "end_time": "2024-06-05T05:51:37.068870Z",
     "start_time": "2024-06-05T05:51:37.066339Z"
    }
   },
   "source": [
    "import numpy as np\n",
    "import pandas as pd\n",
    "import os\n",
    "import time \n",
    "import glob\n",
    "import pathlib\n",
    "import matplotlib.pyplot as plt\n",
    "import seaborn as sns"
   ],
   "outputs": [],
   "execution_count": 3
  },
  {
   "cell_type": "code",
   "metadata": {
    "ExecuteTime": {
     "end_time": "2024-06-05T05:51:37.083902Z",
     "start_time": "2024-06-05T05:51:37.080698Z"
    }
   },
   "source": "os.listdir('BBC News Summary/Summaries')",
   "outputs": [
    {
     "data": {
      "text/plain": [
       "['entertainment', 'business', 'sport', 'politics', 'tech']"
      ]
     },
     "execution_count": 4,
     "metadata": {},
     "output_type": "execute_result"
    }
   ],
   "execution_count": 4
  },
  {
   "cell_type": "code",
   "metadata": {
    "ExecuteTime": {
     "end_time": "2024-06-05T05:51:37.103114Z",
     "start_time": "2024-06-05T05:51:37.100980Z"
    }
   },
   "source": [
    "articles_path = 'BBC News Summary/News Articles'\n",
    "summaries_path = 'BBC News Summary/Summaries'\n",
    "categories_list = ['politics', 'sport', 'tech', 'entertainment', 'business']"
   ],
   "outputs": [],
   "execution_count": 5
  },
  {
   "cell_type": "code",
   "metadata": {
    "ExecuteTime": {
     "end_time": "2024-06-05T05:51:37.108231Z",
     "start_time": "2024-06-05T05:51:37.104793Z"
    }
   },
   "source": [
    "def read_files_from_folders(articles_path, summaries_path, categories_list=['tech', 'sport'], encoding = \"ISO-8859-1\"):\n",
    "    articles = []\n",
    "    summaries = []\n",
    "    categories = []\n",
    "    for category in categories_list:\n",
    "        article_paths = glob.glob(os.path.join(articles_path, category, '*.txt'), recursive=True)\n",
    "        summary_paths = glob.glob(os.path.join(summaries_path, category, '*.txt'), recursive=True)\n",
    "        \n",
    "        if len(article_paths) != len(summary_paths):\n",
    "            print('number of files is not equal')\n",
    "            return\n",
    "        for i in range(len(article_paths)):\n",
    "            categories.append(category)\n",
    "            with open(article_paths[i], mode='r', encoding = encoding) as file:\n",
    "                articles.append(file.read())\n",
    "            \n",
    "            with open(summary_paths[i], mode='r', encoding = encoding) as file:\n",
    "                summaries.append(file.read())\n",
    "    return articles, summaries, categories"
   ],
   "outputs": [],
   "execution_count": 6
  },
  {
   "cell_type": "code",
   "metadata": {
    "ExecuteTime": {
     "end_time": "2024-06-05T05:51:37.611996Z",
     "start_time": "2024-06-05T05:51:37.109168Z"
    }
   },
   "source": [
    "articles, summaries, categories = read_files_from_folders(articles_path, summaries_path, categories_list)"
   ],
   "outputs": [],
   "execution_count": 7
  },
  {
   "cell_type": "code",
   "metadata": {
    "ExecuteTime": {
     "end_time": "2024-06-05T05:51:37.615538Z",
     "start_time": "2024-06-05T05:51:37.612909Z"
    }
   },
   "source": [
    "df = pd.DataFrame({'articles':articles, 'summaries':summaries, 'categories':categories})"
   ],
   "outputs": [],
   "execution_count": 8
  },
  {
   "cell_type": "code",
   "metadata": {
    "ExecuteTime": {
     "end_time": "2024-06-05T05:51:37.622410Z",
     "start_time": "2024-06-05T05:51:37.616156Z"
    }
   },
   "source": [
    "df"
   ],
   "outputs": [
    {
     "data": {
      "text/plain": [
       "                                               articles  \\\n",
       "0     Baron Kinnock makes Lords debut\\n\\nFormer Labo...   \n",
       "1     Howard taunts Blair over splits\\n\\nTony Blair'...   \n",
       "2     Donor attacks Blair-Brown 'feud'\\n\\nThe report...   \n",
       "3     Cardinal criticises Iraq war cost\\n\\nBillions ...   \n",
       "4     BNP leader Nick Griffin arrested\\n\\nThe leader...   \n",
       "...                                                 ...   \n",
       "2220  Jobs growth still slow in the US\\n\\nThe US cre...   \n",
       "2221  Renault boss hails 'great year'\\n\\nStrong sale...   \n",
       "2222  Euro firms miss out on optimism\\n\\nMore than 9...   \n",
       "2223  Bank holds interest rate at 4.75%\\n\\nThe Bank ...   \n",
       "2224  Iraqi voters turn to economic issues\\n\\nBeyond...   \n",
       "\n",
       "                                              summaries categories  \n",
       "0     Former Labour leader Neil Kinnock has official...   politics  \n",
       "1     It claims Mr Blair said in November 2003 he wo...   politics  \n",
       "2     Mr Bannatyne has previously given Labour Â£50,...   politics  \n",
       "3     \"How is it that peace has not arrived?,\" the c...   politics  \n",
       "4     Mr Griffin is the twelfth man to be arrested f...   politics  \n",
       "...                                                 ...        ...  \n",
       "2220  The job gains mean that President Bush can cel...   business  \n",
       "2221  Strong sales outside western Europe helped Ren...   business  \n",
       "2222  Possibly as a result, the worry about low-cost...   business  \n",
       "2223  CBI chief economist Ian McCafferty said the ec...   business  \n",
       "2224  Blackwatch's Baghdad-based affiliate Falcon Gr...   business  \n",
       "\n",
       "[2225 rows x 3 columns]"
      ],
      "text/html": [
       "<div>\n",
       "<style scoped>\n",
       "    .dataframe tbody tr th:only-of-type {\n",
       "        vertical-align: middle;\n",
       "    }\n",
       "\n",
       "    .dataframe tbody tr th {\n",
       "        vertical-align: top;\n",
       "    }\n",
       "\n",
       "    .dataframe thead th {\n",
       "        text-align: right;\n",
       "    }\n",
       "</style>\n",
       "<table border=\"1\" class=\"dataframe\">\n",
       "  <thead>\n",
       "    <tr style=\"text-align: right;\">\n",
       "      <th></th>\n",
       "      <th>articles</th>\n",
       "      <th>summaries</th>\n",
       "      <th>categories</th>\n",
       "    </tr>\n",
       "  </thead>\n",
       "  <tbody>\n",
       "    <tr>\n",
       "      <th>0</th>\n",
       "      <td>Baron Kinnock makes Lords debut\\n\\nFormer Labo...</td>\n",
       "      <td>Former Labour leader Neil Kinnock has official...</td>\n",
       "      <td>politics</td>\n",
       "    </tr>\n",
       "    <tr>\n",
       "      <th>1</th>\n",
       "      <td>Howard taunts Blair over splits\\n\\nTony Blair'...</td>\n",
       "      <td>It claims Mr Blair said in November 2003 he wo...</td>\n",
       "      <td>politics</td>\n",
       "    </tr>\n",
       "    <tr>\n",
       "      <th>2</th>\n",
       "      <td>Donor attacks Blair-Brown 'feud'\\n\\nThe report...</td>\n",
       "      <td>Mr Bannatyne has previously given Labour Â£50,...</td>\n",
       "      <td>politics</td>\n",
       "    </tr>\n",
       "    <tr>\n",
       "      <th>3</th>\n",
       "      <td>Cardinal criticises Iraq war cost\\n\\nBillions ...</td>\n",
       "      <td>\"How is it that peace has not arrived?,\" the c...</td>\n",
       "      <td>politics</td>\n",
       "    </tr>\n",
       "    <tr>\n",
       "      <th>4</th>\n",
       "      <td>BNP leader Nick Griffin arrested\\n\\nThe leader...</td>\n",
       "      <td>Mr Griffin is the twelfth man to be arrested f...</td>\n",
       "      <td>politics</td>\n",
       "    </tr>\n",
       "    <tr>\n",
       "      <th>...</th>\n",
       "      <td>...</td>\n",
       "      <td>...</td>\n",
       "      <td>...</td>\n",
       "    </tr>\n",
       "    <tr>\n",
       "      <th>2220</th>\n",
       "      <td>Jobs growth still slow in the US\\n\\nThe US cre...</td>\n",
       "      <td>The job gains mean that President Bush can cel...</td>\n",
       "      <td>business</td>\n",
       "    </tr>\n",
       "    <tr>\n",
       "      <th>2221</th>\n",
       "      <td>Renault boss hails 'great year'\\n\\nStrong sale...</td>\n",
       "      <td>Strong sales outside western Europe helped Ren...</td>\n",
       "      <td>business</td>\n",
       "    </tr>\n",
       "    <tr>\n",
       "      <th>2222</th>\n",
       "      <td>Euro firms miss out on optimism\\n\\nMore than 9...</td>\n",
       "      <td>Possibly as a result, the worry about low-cost...</td>\n",
       "      <td>business</td>\n",
       "    </tr>\n",
       "    <tr>\n",
       "      <th>2223</th>\n",
       "      <td>Bank holds interest rate at 4.75%\\n\\nThe Bank ...</td>\n",
       "      <td>CBI chief economist Ian McCafferty said the ec...</td>\n",
       "      <td>business</td>\n",
       "    </tr>\n",
       "    <tr>\n",
       "      <th>2224</th>\n",
       "      <td>Iraqi voters turn to economic issues\\n\\nBeyond...</td>\n",
       "      <td>Blackwatch's Baghdad-based affiliate Falcon Gr...</td>\n",
       "      <td>business</td>\n",
       "    </tr>\n",
       "  </tbody>\n",
       "</table>\n",
       "<p>2225 rows × 3 columns</p>\n",
       "</div>"
      ]
     },
     "execution_count": 9,
     "metadata": {},
     "output_type": "execute_result"
    }
   ],
   "execution_count": 9
  },
  {
   "cell_type": "code",
   "metadata": {
    "ExecuteTime": {
     "end_time": "2024-06-05T05:51:37.756538Z",
     "start_time": "2024-06-05T05:51:37.623568Z"
    }
   },
   "source": [
    "category_sizes = df.groupby('categories').size()\n",
    "sns.barplot(x=category_sizes.index, y=category_sizes)\n",
    "plt.show()"
   ],
   "outputs": [
    {
     "data": {
      "text/plain": [
       "<Figure size 640x480 with 1 Axes>"
      ],
      "image/png": "[encoded data removed]"
     },
     "metadata": {},
     "output_type": "display_data"
    }
   ],
   "execution_count": 10
  },
  {
   "cell_type": "code",
   "metadata": {
    "ExecuteTime": {
     "end_time": "2024-06-05T05:51:38.267777Z",
     "start_time": "2024-06-05T05:51:37.759699Z"
    }
   },
   "source": [
    "import nltk\n",
    "from nltk.tokenize import sent_tokenize, word_tokenize\n",
    "\n",
    "nltk.download('punkt')"
   ],
   "outputs": [
    {
     "name": "stderr",
     "output_type": "stream",
     "text": [
      "[nltk_data] Downloading package punkt to /Users/zijieli/nltk_data...\n",
      "[nltk_data]   Package punkt is already up-to-date!\n"
     ]
    },
    {
     "data": {
      "text/plain": [
       "True"
      ]
     },
     "execution_count": 11,
     "metadata": {},
     "output_type": "execute_result"
    }
   ],
   "execution_count": 11
  },
  {
   "cell_type": "code",
   "metadata": {
    "ExecuteTime": {
     "end_time": "2024-06-05T05:51:38.271838Z",
     "start_time": "2024-06-05T05:51:38.268535Z"
    }
   },
   "source": [
    "df['summaries']"
   ],
   "outputs": [
    {
     "data": {
      "text/plain": [
       "0       Former Labour leader Neil Kinnock has official...\n",
       "1       It claims Mr Blair said in November 2003 he wo...\n",
       "2       Mr Bannatyne has previously given Labour Â£50,...\n",
       "3       \"How is it that peace has not arrived?,\" the c...\n",
       "4       Mr Griffin is the twelfth man to be arrested f...\n",
       "                              ...                        \n",
       "2220    The job gains mean that President Bush can cel...\n",
       "2221    Strong sales outside western Europe helped Ren...\n",
       "2222    Possibly as a result, the worry about low-cost...\n",
       "2223    CBI chief economist Ian McCafferty said the ec...\n",
       "2224    Blackwatch's Baghdad-based affiliate Falcon Gr...\n",
       "Name: summaries, Length: 2225, dtype: object"
      ]
     },
     "execution_count": 12,
     "metadata": {},
     "output_type": "execute_result"
    }
   ],
   "execution_count": 12
  },
  {
   "cell_type": "code",
   "metadata": {
    "ExecuteTime": {
     "end_time": "2024-06-05T05:51:42.181740Z",
     "start_time": "2024-06-05T05:51:38.272554Z"
    }
   },
   "source": [
    "tokenized_texts = []\n",
    "\n",
    "for summary in df['articles']:\n",
    "    sentences = sent_tokenize(summary)\n",
    "    for sentence in sentences:\n",
    "        tokenized_texts.append(word_tokenize(sentence))\n",
    "\n",
    "for summary in df['summaries']:\n",
    "    sentences = sent_tokenize(summary)\n",
    "    for sentence in sentences:\n",
    "        tokenized_texts.append(word_tokenize(sentence))\n",
    "    \n",
    "len(tokenized_texts)"
   ],
   "outputs": [
    {
     "data": {
      "text/plain": [
       "46048"
      ]
     },
     "execution_count": 13,
     "metadata": {},
     "output_type": "execute_result"
    }
   ],
   "execution_count": 13
  },
  {
   "cell_type": "code",
   "metadata": {
    "ExecuteTime": {
     "end_time": "2024-06-05T05:51:43.937331Z",
     "start_time": "2024-06-05T05:51:42.182524Z"
    }
   },
   "source": [
    "from gensim.models import Word2Vec\n",
    "\n",
    "# Train a Word2Vec model\n",
    "model = Word2Vec(tokenized_texts, vector_size=100, window=5, min_count=3, workers=4)"
   ],
   "outputs": [],
   "execution_count": 14
  },
  {
   "cell_type": "code",
   "metadata": {
    "ExecuteTime": {
     "end_time": "2024-06-05T05:51:43.948044Z",
     "start_time": "2024-06-05T05:51:43.938012Z"
    }
   },
   "source": [
    "# Get the vector for a specific word\n",
    "word_vector = model.wv.most_similar('children', topn=10)\n",
    "\n",
    "print(word_vector)"
   ],
   "outputs": [
    {
     "name": "stdout",
     "output_type": "stream",
     "text": [
      "[('players', 0.8660340905189514), ('teams', 0.8028277158737183), ('fans', 0.7993184328079224), ('parents', 0.7985693216323853), ('women', 0.7898350358009338), ('customers', 0.7833248376846313), ('clubs', 0.7799148559570312), ('parties', 0.7789074778556824), ('different', 0.772015392780304), ('phones', 0.7701560854911804)]\n"
     ]
    }
   ],
   "execution_count": 15
  },
  {
   "cell_type": "code",
   "metadata": {
    "ExecuteTime": {
     "end_time": "2024-06-05T05:51:44.204837Z",
     "start_time": "2024-06-05T05:51:43.977145Z"
    }
   },
   "source": [
    "from sklearn.decomposition import PCA\n",
    "rawWordVec =[]\n",
    "word2ind = {}\n",
    "\n",
    "for i, w in enumerate(model.wv.index_to_key):\n",
    "    rawWordVec.append(model.wv[w])\n",
    "    word2ind[w] = i\n",
    "rawWordVec = np.array(rawWordVec)\n",
    "X_reduced = PCA(n_components=2).fit_transform(rawWordVec)"
   ],
   "outputs": [],
   "execution_count": 16
  },
  {
   "cell_type": "code",
   "metadata": {
    "ExecuteTime": {
     "end_time": "2024-06-05T05:51:44.216301Z",
     "start_time": "2024-06-05T05:51:44.210492Z"
    }
   },
   "source": [
    "X_reduced.shape"
   ],
   "outputs": [
    {
     "data": {
      "text/plain": [
       "(20687, 2)"
      ]
     },
     "execution_count": 17,
     "metadata": {},
     "output_type": "execute_result"
    }
   ],
   "execution_count": 17
  },
  {
   "cell_type": "code",
   "metadata": {
    "ExecuteTime": {
     "end_time": "2024-06-05T05:51:44.367214Z",
     "start_time": "2024-06-05T05:51:44.217856Z"
    }
   },
   "source": [
    "fig = plt.figure(figsize = (6, 5))\n",
    "ax = fig.gca()\n",
    "ax.plot(X_reduced[:,0], X_reduced[:,1], 'o', color='deepskyblue', alpha = 0.3, markersize=1)\n",
    "\n",
    "words = ['children', 'parents', 'fans', 'families', 'computers', 'players']\n",
    "for w in words:\n",
    "    if w in word2ind:\n",
    "        ind = word2ind[w]\n",
    "        xy = X_reduced[ind]\n",
    "        plt.plot(xy[0], xy[1], 'o', color='salmon', alpha = 0.8, markersize = 10)\n",
    "        plt.text(xy[0], xy[1], w, ha='center', va='center', color='k')\n",
    "        "
   ],
   "outputs": [
    {
     "data": {
      "text/plain": [
       "<Figure size 600x500 with 1 Axes>"
      ],
      "image/png": "[encoded data removed]"
     },
     "metadata": {},
     "output_type": "display_data"
    }
   ],
   "execution_count": 18
  },
  {
   "cell_type": "code",
   "metadata": {
    "ExecuteTime": {
     "end_time": "2024-06-05T05:51:44.372413Z",
     "start_time": "2024-06-05T05:51:44.369631Z"
    }
   },
   "source": [],
   "outputs": [],
   "execution_count": 18
  }
 ],
 "metadata": {
  "kaggle": {
   "accelerator": "none",
   "dataSources": [
    {
     "datasetId": 24984,
     "sourceId": 32267,
     "sourceType": "datasetVersion"
    }
   ],
   "dockerImageVersionId": 30301,
   "isGpuEnabled": false,
   "isInternetEnabled": true,
   "language": "python",
   "sourceType": "notebook"
  },
  "kernelspec": {
   "display_name": "Python 3 (ipykernel)",
   "language": "python",
   "name": "python3"
  },
  "language_info": {
   "codemirror_mode": {
    "name": "ipython",
    "version": 3
   },
   "file_extension": ".py",
   "mimetype": "text/x-python",
   "name": "python",
   "nbconvert_exporter": "python",
   "pygments_lexer": "ipython3",
   "version": "3.10.13"
  }
 },
 "nbformat": 4,
 "nbformat_minor": 4
}
